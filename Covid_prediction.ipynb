{
  "nbformat": 4,
  "nbformat_minor": 0,
  "metadata": {
    "colab": {
      "name": "Covid_prediction.ipynb",
      "provenance": [],
      "collapsed_sections": [],
      "authorship_tag": "ABX9TyNmIWyEa9iYuWG7DeiTHun3"
    },
    "kernelspec": {
      "name": "python3",
      "display_name": "Python 3"
    }
  },
  "cells": [
    {
      "cell_type": "code",
      "metadata": {
        "id": "c6Tz3PxcC2-Q"
      },
      "source": [
        "!ln -sf /opt/bin/nvidia-smi /usr/bin/nvidia-smi\n",
        "!pip install -q gputil\n",
        "!pip install -q psutil\n",
        "!pip install -q humanize\n",
        "import psutil\n",
        "import humanize\n",
        "import os\n",
        "import GPUtil as GPU\n",
        "GPUs = GPU.getGPUs()\n",
        "# XXX: only one GPU on Colab and isn’t guaranteed\n",
        "gpu = GPUs[0]\n",
        "process = psutil.Process(os.getpid())\n",
        "print(\"Gen RAM Free: \" + humanize.naturalsize( psutil.virtual_memory().available ), \" | Proc size: \" + humanize.naturalsize( process.memory_info().rss))\n",
        "print(\"GPU RAM Free: {0:.0f}MB | Used: {1:.0f}MB | Util {2:3.0f}% | Total {3:.0f}MB\".format(gpu.memoryFree, gpu.memoryUsed, gpu.memoryUtil*100, gpu.memoryTotal))\n",
        "print(\"GPU Model: \", gpu.name)"
      ],
      "execution_count": null,
      "outputs": []
    },
    {
      "cell_type": "code",
      "metadata": {
        "id": "xALULAKpDUQA"
      },
      "source": [
        "#Загружаем библиотеки\n",
        "\n",
        "import pandas as pd # Пандас\n",
        "import matplotlib.pyplot as plt # Отрисовка графиков\n",
        "from tensorflow.keras import utils # Для to_categorical\n",
        "import numpy as np # Numpy\n",
        "from keras.optimizers import Adam # Оптимизатор\n",
        "from keras.models import Sequential, Model # Два варианты моделей\n",
        "from keras.layers import concatenate,Reshape, Input,Conv2DTranspose, Lambda, Dense, Dropout, BatchNormalization, Flatten, Conv1D, Conv2D, LSTM, MaxPooling1D, Activation, GlobalMaxPooling1D, UpSampling1D#Стандартные слои\n",
        "from keras.losses import MAE\n",
        "from google.colab import files # Загрузка файлов\n",
        "from sklearn.preprocessing import StandardScaler, MinMaxScaler # Нормировщики\n",
        "from keras.preprocessing.sequence import TimeseriesGenerator # Для генерации выборки временных рядов\n",
        "import keras.backend as K\n",
        "from keras.callbacks import ModelCheckpoint\n",
        "from sklearn.model_selection import train_test_split # Для разделения выборки на тестовую и обучающую\n",
        "import random as random # Импортируем модель randim\n",
        "import numpy as np # Импортируем библиотеку numpy\n",
        "import matplotlib.pyplot as plt # Импортируем модуль pyplot библиотеки matplotlib для построения графиков\n",
        "from PIL import Image # Импортируем одель Image для обработки изображений\n",
        "import time\n",
        "from tensorflow.keras.utils import plot_model\n",
        "# Статический вывод графики (графики отображаются в той ячейке, в которой используется plt.show())\n",
        "%matplotlib inline"
      ],
      "execution_count": 2,
      "outputs": []
    },
    {
      "cell_type": "code",
      "metadata": {
        "id": "E_k3FWTIDHyP",
        "colab": {
          "base_uri": "https://localhost:8080/"
        },
        "outputId": "b2758eca-681d-440a-ae04-ae6c1aed8a3c"
      },
      "source": [
        "!wget https://raw.githubusercontent.com/CSSEGISandData/COVID-19/master/csse_covid_19_data/csse_covid_19_time_series/time_series_covid19_confirmed_global.csv"
      ],
      "execution_count": 9,
      "outputs": [
        {
          "output_type": "stream",
          "text": [
            "--2021-04-12 17:43:29--  https://raw.githubusercontent.com/CSSEGISandData/COVID-19/master/csse_covid_19_data/csse_covid_19_time_series/time_series_covid19_confirmed_global.csv\n",
            "Resolving raw.githubusercontent.com (raw.githubusercontent.com)... 185.199.108.133, 185.199.109.133, 185.199.110.133, ...\n",
            "Connecting to raw.githubusercontent.com (raw.githubusercontent.com)|185.199.108.133|:443... connected.\n",
            "HTTP request sent, awaiting response... 200 OK\n",
            "Length: 570429 (557K) [text/plain]\n",
            "Saving to: ‘time_series_covid19_confirmed_global.csv.1’\n",
            "\n",
            "\r          time_seri   0%[                    ]       0  --.-KB/s               \rtime_series_covid19 100%[===================>] 557.06K  --.-KB/s    in 0.04s   \n",
            "\n",
            "2021-04-12 17:43:29 (13.0 MB/s) - ‘time_series_covid19_confirmed_global.csv.1’ saved [570429/570429]\n",
            "\n"
          ],
          "name": "stdout"
        }
      ]
    },
    {
      "cell_type": "code",
      "metadata": {
        "id": "Fd3RFNJ2DRdg"
      },
      "source": [
        "# Считываем данные с помощью pandas\n",
        "base_data = pd.read_csv('time_series_covid19_confirmed_global.csv')\n",
        "data = base_data.iloc[1:, :]\n",
        "# Выводим пять первых строк\n",
        "#data"
      ],
      "execution_count": 10,
      "outputs": []
    },
    {
      "cell_type": "code",
      "metadata": {
        "id": "jTwElTq_FUUl"
      },
      "source": [
        "data = data.drop(['Province/State'], axis =1)  \n",
        "data = data.drop(['Lat'], axis =1)  \n",
        "data = data.drop(['Long'], axis =1) \n",
        "data = data[data['Country/Region'].str.contains('Russia')]\n",
        "data = data.drop(['Country/Region'], axis =1)\n",
        "data.reset_index(inplace=True)                                                    # Обновим индекс\n",
        "data = data.drop('index',axis=1)                                                   # Выкинем ненужную, образовавшуюся после предыдущей операции колонку"
      ],
      "execution_count": 12,
      "outputs": []
    },
    {
      "cell_type": "code",
      "metadata": {
        "id": "mM6Uvm4cE4_a",
        "colab": {
          "base_uri": "https://localhost:8080/",
          "height": 126
        },
        "outputId": "901b0897-6d59-4f26-dc13-01c91227b4fd"
      },
      "source": [
        "data.head()"
      ],
      "execution_count": 13,
      "outputs": [
        {
          "output_type": "execute_result",
          "data": {
            "text/html": [
              "<div>\n",
              "<style scoped>\n",
              "    .dataframe tbody tr th:only-of-type {\n",
              "        vertical-align: middle;\n",
              "    }\n",
              "\n",
              "    .dataframe tbody tr th {\n",
              "        vertical-align: top;\n",
              "    }\n",
              "\n",
              "    .dataframe thead th {\n",
              "        text-align: right;\n",
              "    }\n",
              "</style>\n",
              "<table border=\"1\" class=\"dataframe\">\n",
              "  <thead>\n",
              "    <tr style=\"text-align: right;\">\n",
              "      <th></th>\n",
              "      <th>1/22/20</th>\n",
              "      <th>1/23/20</th>\n",
              "      <th>1/24/20</th>\n",
              "      <th>1/25/20</th>\n",
              "      <th>1/26/20</th>\n",
              "      <th>1/27/20</th>\n",
              "      <th>1/28/20</th>\n",
              "      <th>1/29/20</th>\n",
              "      <th>1/30/20</th>\n",
              "      <th>1/31/20</th>\n",
              "      <th>2/1/20</th>\n",
              "      <th>2/2/20</th>\n",
              "      <th>2/3/20</th>\n",
              "      <th>2/4/20</th>\n",
              "      <th>2/5/20</th>\n",
              "      <th>2/6/20</th>\n",
              "      <th>2/7/20</th>\n",
              "      <th>2/8/20</th>\n",
              "      <th>2/9/20</th>\n",
              "      <th>2/10/20</th>\n",
              "      <th>2/11/20</th>\n",
              "      <th>2/12/20</th>\n",
              "      <th>2/13/20</th>\n",
              "      <th>2/14/20</th>\n",
              "      <th>2/15/20</th>\n",
              "      <th>2/16/20</th>\n",
              "      <th>2/17/20</th>\n",
              "      <th>2/18/20</th>\n",
              "      <th>2/19/20</th>\n",
              "      <th>2/20/20</th>\n",
              "      <th>2/21/20</th>\n",
              "      <th>2/22/20</th>\n",
              "      <th>2/23/20</th>\n",
              "      <th>2/24/20</th>\n",
              "      <th>2/25/20</th>\n",
              "      <th>2/26/20</th>\n",
              "      <th>2/27/20</th>\n",
              "      <th>2/28/20</th>\n",
              "      <th>2/29/20</th>\n",
              "      <th>3/1/20</th>\n",
              "      <th>...</th>\n",
              "      <th>3/3/21</th>\n",
              "      <th>3/4/21</th>\n",
              "      <th>3/5/21</th>\n",
              "      <th>3/6/21</th>\n",
              "      <th>3/7/21</th>\n",
              "      <th>3/8/21</th>\n",
              "      <th>3/9/21</th>\n",
              "      <th>3/10/21</th>\n",
              "      <th>3/11/21</th>\n",
              "      <th>3/12/21</th>\n",
              "      <th>3/13/21</th>\n",
              "      <th>3/14/21</th>\n",
              "      <th>3/15/21</th>\n",
              "      <th>3/16/21</th>\n",
              "      <th>3/17/21</th>\n",
              "      <th>3/18/21</th>\n",
              "      <th>3/19/21</th>\n",
              "      <th>3/20/21</th>\n",
              "      <th>3/21/21</th>\n",
              "      <th>3/22/21</th>\n",
              "      <th>3/23/21</th>\n",
              "      <th>3/24/21</th>\n",
              "      <th>3/25/21</th>\n",
              "      <th>3/26/21</th>\n",
              "      <th>3/27/21</th>\n",
              "      <th>3/28/21</th>\n",
              "      <th>3/29/21</th>\n",
              "      <th>3/30/21</th>\n",
              "      <th>3/31/21</th>\n",
              "      <th>4/1/21</th>\n",
              "      <th>4/2/21</th>\n",
              "      <th>4/3/21</th>\n",
              "      <th>4/4/21</th>\n",
              "      <th>4/5/21</th>\n",
              "      <th>4/6/21</th>\n",
              "      <th>4/7/21</th>\n",
              "      <th>4/8/21</th>\n",
              "      <th>4/9/21</th>\n",
              "      <th>4/10/21</th>\n",
              "      <th>4/11/21</th>\n",
              "    </tr>\n",
              "  </thead>\n",
              "  <tbody>\n",
              "    <tr>\n",
              "      <th>0</th>\n",
              "      <td>0</td>\n",
              "      <td>0</td>\n",
              "      <td>0</td>\n",
              "      <td>0</td>\n",
              "      <td>0</td>\n",
              "      <td>0</td>\n",
              "      <td>0</td>\n",
              "      <td>0</td>\n",
              "      <td>0</td>\n",
              "      <td>2</td>\n",
              "      <td>2</td>\n",
              "      <td>2</td>\n",
              "      <td>2</td>\n",
              "      <td>2</td>\n",
              "      <td>2</td>\n",
              "      <td>2</td>\n",
              "      <td>2</td>\n",
              "      <td>2</td>\n",
              "      <td>2</td>\n",
              "      <td>2</td>\n",
              "      <td>2</td>\n",
              "      <td>2</td>\n",
              "      <td>2</td>\n",
              "      <td>2</td>\n",
              "      <td>2</td>\n",
              "      <td>2</td>\n",
              "      <td>2</td>\n",
              "      <td>2</td>\n",
              "      <td>2</td>\n",
              "      <td>2</td>\n",
              "      <td>2</td>\n",
              "      <td>2</td>\n",
              "      <td>2</td>\n",
              "      <td>2</td>\n",
              "      <td>2</td>\n",
              "      <td>2</td>\n",
              "      <td>2</td>\n",
              "      <td>2</td>\n",
              "      <td>2</td>\n",
              "      <td>2</td>\n",
              "      <td>...</td>\n",
              "      <td>4230707</td>\n",
              "      <td>4241970</td>\n",
              "      <td>4252876</td>\n",
              "      <td>4263785</td>\n",
              "      <td>4274263</td>\n",
              "      <td>4284408</td>\n",
              "      <td>4293750</td>\n",
              "      <td>4302726</td>\n",
              "      <td>4311893</td>\n",
              "      <td>4321588</td>\n",
              "      <td>4331396</td>\n",
              "      <td>4341381</td>\n",
              "      <td>4350728</td>\n",
              "      <td>4360033</td>\n",
              "      <td>4368943</td>\n",
              "      <td>4378656</td>\n",
              "      <td>4388268</td>\n",
              "      <td>4397816</td>\n",
              "      <td>4407031</td>\n",
              "      <td>4416226</td>\n",
              "      <td>4424595</td>\n",
              "      <td>4433364</td>\n",
              "      <td>4442492</td>\n",
              "      <td>4451565</td>\n",
              "      <td>4460348</td>\n",
              "      <td>4469327</td>\n",
              "      <td>4477916</td>\n",
              "      <td>4486078</td>\n",
              "      <td>4494234</td>\n",
              "      <td>4503291</td>\n",
              "      <td>4511973</td>\n",
              "      <td>4520879</td>\n",
              "      <td>4529576</td>\n",
              "      <td>4538101</td>\n",
              "      <td>4546307</td>\n",
              "      <td>4554481</td>\n",
              "      <td>4563026</td>\n",
              "      <td>4572053</td>\n",
              "      <td>4580633</td>\n",
              "      <td>4589209</td>\n",
              "    </tr>\n",
              "  </tbody>\n",
              "</table>\n",
              "<p>1 rows × 446 columns</p>\n",
              "</div>"
            ],
            "text/plain": [
              "   1/22/20  1/23/20  1/24/20  1/25/20  ...   4/8/21   4/9/21  4/10/21  4/11/21\n",
              "0        0        0        0        0  ...  4563026  4572053  4580633  4589209\n",
              "\n",
              "[1 rows x 446 columns]"
            ]
          },
          "metadata": {
            "tags": []
          },
          "execution_count": 13
        }
      ]
    },
    {
      "cell_type": "code",
      "metadata": {
        "id": "XAA-vBTAF6nQ"
      },
      "source": [
        "data = np.array(data) \n",
        "data = data.transpose()\n",
        "arr = []\n",
        "i = 0\n",
        "while i < len(data)-1:\n",
        "  #print(data[i+1]-data[i])\n",
        "  arr.append(data[i+1]-data[i])\n",
        "  i += 1\n",
        "data = np.array(arr)  "
      ],
      "execution_count": 14,
      "outputs": []
    },
    {
      "cell_type": "code",
      "metadata": {
        "id": "3aQA-gw6Io6D"
      },
      "source": [
        "#Формируем параметры загрузки данных\n",
        "\n",
        "valLen = 50  # Используем 300 записей для проверки\n",
        "trainLen = data.shape[0]-valLen # Размер тренировочной выборки\n",
        "xLen = 30     # Анализируем по 300 прошедшим точкам\n",
        "\n",
        "Scaler = MinMaxScaler()\n",
        "Scaler.fit(data)\n",
        "# Делим данные на тренировочную и тестовую выборки \n",
        "#Train,Test = np.reshape(data[:trainLen],(-1,1)), np.reshape(data[trainLen-1:],(-1,1))\n",
        "Train,Test = np.reshape(data[:],(-1,1)), np.reshape(data[:],(-1,1))\n",
        "\n",
        "\n",
        "# Масштабируем данные (отдельно для X и Y), чтобы их легче было скормить сетке\n",
        "Train = Scaler.transform(Train)\n",
        "Test = Scaler.transform(Test)\n",
        "\n",
        "\n",
        "\n",
        "# Создаем генератор для обучения\n",
        "trainDataGen = TimeseriesGenerator(Train, Train,             # в качестве параметров наши выборки\n",
        "                               length=xLen, sampling_rate=1, # для каждой точки\n",
        "                               batch_size=len(Train))                # размер batch, который будем скармливать модели\n",
        "\n",
        "# Создаем аналогичный генератор для валидации при обучении\n",
        "testDataGen = TimeseriesGenerator(Test, Test,\n",
        "                               length=xLen, sampling_rate=1,\n",
        "                               batch_size=20)\n",
        "\n"
      ],
      "execution_count": 16,
      "outputs": []
    },
    {
      "cell_type": "code",
      "metadata": {
        "id": "TMfzcfhdY6VA",
        "colab": {
          "base_uri": "https://localhost:8080/"
        },
        "outputId": "8fb366a3-b4d5-45d9-ddb3-ab715aff04ef"
      },
      "source": [
        "\n",
        "xVal = []\n",
        "yVal = []\n",
        "for i in trainDataGen:\n",
        "  xVal.append(i[0])\n",
        "  yVal.append(i[1])\n",
        "\n",
        "xVal = np.array(xVal)\n",
        "yVal = np.array(yVal)\n",
        "\n",
        "xTrain, xTest, yTrain, yTest = train_test_split(xVal[0], yVal[0], test_size=0.2)\n",
        "\n",
        "print(len(trainDataGen))\n",
        "print(xTrain.shape)\n",
        "print(yTrain.shape)\n",
        "print(xTest.shape)\n",
        "print(data[:trainLen].shape)\n",
        "print(data.shape[0] - trainLen)\n",
        "#print(xTrain[0])\n"
      ],
      "execution_count": 17,
      "outputs": [
        {
          "output_type": "stream",
          "text": [
            "1\n",
            "(332, 30, 1)\n",
            "(332, 1)\n",
            "(83, 30, 1)\n",
            "(395, 1)\n",
            "50\n"
          ],
          "name": "stdout"
        }
      ]
    },
    {
      "cell_type": "markdown",
      "metadata": {
        "id": "RSb6us4dKryY"
      },
      "source": [
        "Функции для отображения результатов"
      ]
    },
    {
      "cell_type": "code",
      "metadata": {
        "id": "YCWk5utHKup4"
      },
      "source": [
        "# Функция рассчитываем результаты прогнозирования сети\n",
        "# В аргументы принимает сеть (currModel) и проверочную выборку\n",
        "# Выдаёт результаты предсказания predVal\n",
        "# И правильные ответы в исходной размерности yValUnscaled (какими они были до нормирования)\n",
        "def getPred(currModel, xVal, yVal, yScaler):\n",
        "  # Предсказываем ответ сети по проверочной выборке\n",
        "  # И возвращаем исходны масштаб данных, до нормализации\n",
        "  predVal = yScaler.inverse_transform(currModel.predict(xVal))\n",
        "  yValUnscaled = yScaler.inverse_transform(yVal)\n",
        "  \n",
        "  return (predVal, yValUnscaled)\n",
        "\n",
        "# Функция визуализирует графики, что предсказала сеть и какие были правильные ответы\n",
        "# start - точка с которой начинаем отрисовку графика\n",
        "# step - длина графика, которую отрисовываем\n",
        "# channel - какой канал отрисовываем\n",
        "def showPredict(start, step, channel, predVal, yValUnscaled):\n",
        "  plt.plot(predVal[start:start+step, channel], \n",
        "           label='Прогноз')\n",
        "  plt.plot(yValUnscaled[start:start+step, channel], \n",
        "           label='Базовый ряд')\n",
        "  plt.xlabel('Время')\n",
        "  plt.ylabel('Значение Close')\n",
        "  plt.legend()\n",
        "  plt.show()\n",
        "  \n",
        "# Функция расёта корреляции дух одномерных векторов\n",
        "def correlate(a, b):\n",
        "  # Рассчитываем основные показатели\n",
        "  ma = a.mean() # Среднее значение первого вектора\n",
        "  mb = b.mean() # Среднее значение второго вектора\n",
        "  mab = (a*b).mean() # Среднее значение произведения векторов\n",
        "  sa = a.std() # Среднеквадратичное отклонение первого вектора\n",
        "  sb = b.std() # Среднеквадратичное отклонение второго вектора\n",
        "  \n",
        "  #Рассчитываем корреляцию\n",
        "  val = 0\n",
        "  if ((sa>0) & (sb>0)):\n",
        "    val = (mab-ma*mb)/(sa*sb)\n",
        "  return val\n",
        "\n",
        "# Функция рисуем корреляцию прогнозированного сигнала с правильным\n",
        "# Смещая на различное количество шагов назад\n",
        "# Для проверки появления эффекта автокорреляции\n",
        "# channels - по каким каналам отображать корреляцию\n",
        "# corrSteps - на какое количество шагов смещать сигнал назад для рассчёта корреляции\n",
        "# showGraf - показываем график или нет\n",
        "# returnData - возвращаем массивы автокорреляции или нет\n",
        "def autoCorr(channels, corrSteps, predVal, yValUnscaled, showGraf = True, returnData = False):\n",
        "  # Проходим по всем каналам\n",
        "  for ch in channels:\n",
        "    corr = [] # Создаём пустой лист, в нём будут корреляции при смезении на i рагов обратно\n",
        "    yLen = yValUnscaled.shape[0] # Запоминаем размер проверочной выборки\n",
        "\n",
        "      # Постепенно увеличикаем шаг, насколько смещаем сигнал для проверки автокорреляции\n",
        "    for i in range(corrSteps):\n",
        "      # Получаем сигнал, смещённый на i шагов назад\n",
        "      # predVal[i:, ch]\n",
        "      # Сравниваем его с верными ответами, без смещения назад\n",
        "      # yValUnscaled[:yLen-i,ch]\n",
        "      # Рассчитываем их корреляцию и добавляем в лист\n",
        "      corr.append(correlate(yValUnscaled[:yLen-i,ch], predVal[i:, ch]))\n",
        "\n",
        "    own_corr = [] # Создаём пустой лист, в нём будут корреляции при смезении на i рагов обратно\n",
        "\n",
        "      # Постепенно увеличикаем шаг, насколько смещаем сигнал для проверки автокорреляции\n",
        "    for i in range(corrSteps):\n",
        "      # Получаем сигнал, смещённый на i шагов назад\n",
        "      # predVal[i:, ch]\n",
        "      # Сравниваем его с верными ответами, без смещения назад\n",
        "      # yValUnscaled[:yLen-i,ch]\n",
        "      # Рассчитываем их корреляцию и добавляем в лист\n",
        "      own_corr.append(correlate(yValUnscaled[:yLen-i,ch], yValUnscaled[i:, ch]))\n",
        "\n",
        "    # Отображаем график коррелций для данного шага\n",
        "    if showGraf: #Если нужно показать график\n",
        "      plt.plot(corr, label='предсказание на ' + str(ch+1) + ' шаг')\n",
        "      plt.plot(own_corr, label='Эталон')\n",
        "\n",
        "  if showGraf: #Если нужно показать график\n",
        "    plt.xlabel('Время')\n",
        "    plt.ylabel('Значение')\n",
        "    plt.legend()\n",
        "    plt.show()\n",
        "\n",
        "  if returnData: #Если нужно вернуть массивы автокорреляции\n",
        "    return corr, own_corr\n",
        "\n",
        "\n",
        "# Функция рисуем корреляцию прогнозированного сигнала с правильным\n",
        "# Смещая на различное количество шагов назад\n",
        "# Для проверки появления эффекта автокорреляции\n",
        "# channels - по каким каналам отображать корреляцию\n",
        "# corrSteps - на какое количество шагов смещать сигнал назад для рассчёта корреляции\n",
        "def showCorr(channels, corrSteps, predVal, yValUnscaled):\n",
        "  # Проходим по всем каналам\n",
        "  for ch in channels:\n",
        "    corr = [] # Создаём пустой лист, в нём будут корреляции при смезении на i рагов обратно\n",
        "    yLen = yValUnscaled.shape[0] # Запоминаем размер проверочной выборки\n",
        "\n",
        "      # Постепенно увеличикаем шаг, насколько смещаем сигнал для проверки автокорреляции\n",
        "    for i in range(corrSteps):\n",
        "      # Получаем сигнал, смещённый на i шагов назад\n",
        "      # predVal[i:, ch]\n",
        "      # Сравниваем его с верными ответами, без смещения назад\n",
        "      # yValUnscaled[:yLen-i,ch]\n",
        "      # Рассчитываем их корреляцию и добавляем в лист\n",
        "      corr.append(correlate(yValUnscaled[:yLen-i,ch], predVal[i:, 0]))\n",
        "\n",
        "    own_corr = [] # Создаём пустой лист, в нём будут корреляции при смезении на i рагов обратно\n",
        "\n",
        "      # Постепенно увеличикаем шаг, насколько смещаем сигнал для проверки автокорреляции\n",
        "    for i in range(corrSteps):\n",
        "      # Получаем сигнал, смещённый на i шагов назад\n",
        "      # predVal[i:, ch]\n",
        "      # Сравниваем его с верными ответами, без смещения назад\n",
        "      # yValUnscaled[:yLen-i,ch]\n",
        "      # Рассчитываем их корреляцию и добавляем в лист\n",
        "      own_corr.append(correlate(yValUnscaled[:yLen-i,ch], yValUnscaled[i:, ch]))\n",
        "\n",
        "    # Отображаем график коррелций для данного шага\n",
        "    plt.plot(corr, label='Предсказание на ' + str(ch+1) + ' шаг')\n",
        "    plt.plot(own_corr, label='Эталон')\n",
        "\n",
        "  plt.xlabel('Время')\n",
        "  plt.ylabel('Значение')\n",
        "  plt.legend()\n",
        "  plt.show()    "
      ],
      "execution_count": 18,
      "outputs": []
    },
    {
      "cell_type": "code",
      "metadata": {
        "id": "s7Tx_bMGK1QD"
      },
      "source": [
        "# Создадим генератор проверочной выборки, из которой потом вытащим xVal, yVal для проверки\n",
        "DataGen = TimeseriesGenerator(Test, Test,\n",
        "                               length=xLen, sampling_rate=1,\n",
        "                               batch_size=len(Test)) # Размер batch будет равен длине нашей выборки\n",
        "\n",
        "\n",
        "Test =  np.reshape(data[:],(-1,1))\n",
        "\n",
        "# Масштабируем данные (отдельно для X и Y), чтобы их легче было скормить сетке\n",
        "#Train = Scaler.transform(Train)\n",
        "Test = Scaler.transform(Test)\n",
        "DataGen = TimeseriesGenerator(Test, Test,\n",
        "                              length=xLen, sampling_rate=1,\n",
        "                              batch_size=len(Test)) # Размер batch будет равен длине нашей выборки\n",
        "\n",
        "xVal = []\n",
        "yVal = []\n",
        "for i in DataGen:\n",
        "  xVal.append(i[0])\n",
        "  yVal.append(i[1])\n",
        "\n",
        "xVal = np.array(xVal)\n",
        "yVal = np.array(yVal)"
      ],
      "execution_count": 19,
      "outputs": []
    },
    {
      "cell_type": "code",
      "metadata": {
        "id": "pjEjloqiK5NX"
      },
      "source": [
        "#Создаём сеть (net - список параметров)\n",
        "def createConvNet(net):\n",
        "\n",
        "  model = Sequential()             # Создаем моель Sequential\n",
        "  \n",
        "  makeFirstNormalization = net[0]  # Делаем ли нормализацию в начале\n",
        "  firstConvSize = 2 ** net[1]      # Размер первого вёрточного слоя\n",
        "  firstConvKernel = net[2]         # Ядро первого свёрточного слоя\n",
        "  activation0 = net[3]             # Функция активации входного слоя\n",
        "  makeMaxPooling0 = net[4]         # Делаем ли maxpooling для нулевого слоя\n",
        "  maxPoolingSize0 = net[5]         # Размер MaxPooling\n",
        "\n",
        "  makeSecondConv = net[6]          # Делаем ли второй свёрточный слой\n",
        "  secondConvSize = 2 ** net[7]     # Размер второго свёрточного слоя\n",
        "  secondConvKernel = net[8]        # Ядро второго свёрточного слоя\n",
        "  makeMaxPooling1 = net[9]         # Делаем ли MaxPooling\n",
        "  maxPoolingSize1 = net[10]        # Размер MaxPooling\n",
        "  activation1 = net[11]            # Функция активации\n",
        "\n",
        "  makeThirdConv = net[12]          # Делаем ли второй свёрточный слой\n",
        "  thirdConvSize = 2 ** net[13]     # Размер второго свёрточного слоя\n",
        "  thirdConvKernel = net[14]        # Ядро второго свёрточного слоя\n",
        "  makeMaxPooling2 = net[15]        # Делаем ли MaxPooling\n",
        "  maxPoolingSize2 = net[16]        # Размер MaxPooling\n",
        "  activation2 = net[17]            # Функция активации\n",
        "\n",
        "  activation3 = net[18]            # Функция активации для \n",
        "  activation4 = net[19]            # Функция активации для последнего слоя\n",
        "\n",
        "  makeSecondNormalization = net[20] # Делаем ли финальную нормализацию\n",
        "  denseSize = 2 ** net[21]          # Размер полносвязного слоя\n",
        "\n",
        "  activation_list = ['linear','relu','tanh','softmax','sigmoid'] \n",
        "\n",
        "  if (makeFirstNormalization):      # Если делаем нормализацию в начале\n",
        "\n",
        "    # Добавляем слой BatchNormalization\n",
        "    model.add(BatchNormalization(input_shape=(xLen, 1))) \n",
        "\n",
        "    # Добавляем Conv1D-слой с firstConvSize нейронами и ядром (firstConvKernel)\n",
        "    model.add(Conv1D(firstConvSize, firstConvKernel, activation=activation_list[activation0], padding='same')) \n",
        "  else:\n",
        "\n",
        "    # Добавляем Conv1D-слой с firstConvSize нейронами и ядром (firstConvKernel)\n",
        "    model.add(Conv1D(firstConvSize, firstConvKernel, input_shape=(xLen, 1), activation=activation_list[activation0], padding='same')) \n",
        "\n",
        "  if makeMaxPooling0:               # Если делаем maxpooling\n",
        "    model.add(MaxPooling1D(maxPoolingSize0))\n",
        "\n",
        "\n",
        "  if (makeSecondConv):              # Если делаем второй свёрточный слой\n",
        "    # Добавляем Conv1D-слой с secondConvSize нейронами и ядром (secondConvKernel)\n",
        "    model.add(Conv1D(secondConvSize, secondConvKernel, activation=activation_list[activation1], padding='same')) \n",
        "    \n",
        "    if (makeMaxPooling1):           # Если делаем MaxPooling\n",
        "      # Добавляем слой MaxPooling1D с размером (maxPoolingSize)\n",
        "      model.add(MaxPooling1D(pool_size=maxPoolingSize1)) \n",
        "\n",
        "\n",
        "  if (makeThirdConv):               # Если делаем второй свёрточный слой\n",
        "    # Добавляем Conv1D-слой с secondConvSize нейронами и ядром (secondConvKernel)\n",
        "    model.add(Conv1D(thirdConvSize, thirdConvKernel, activation=activation_list[activation2], padding='same')) \n",
        "\n",
        "    if (makeMaxPooling2):           # Если делаем MaxPooling\n",
        "      # Добавляем слой MaxPooling1D с размером (maxPoolingSize, maxPoolingSize)\n",
        "      model.add(MaxPooling1D(pool_size=maxPoolingSize2)) \n",
        "          \n",
        "  if (makeSecondNormalization):     # Если делаем финальную нормализацию\n",
        "    model.add(BatchNormalization()) # Добавляем слой BatchNormalization\n",
        "  \n",
        "  model.add(Flatten())              # Добавляем слой Flatten\n",
        "\n",
        "  model.add(Dense(denseSize, activation=activation_list[activation3])) # Добавляем слой Dense с denseSize нейронами\n",
        "  model.add(Dense(1, activation=activation_list[activation4]))         # Добавляем Dense-слой с softmax-активацией и 10 нейронами\n",
        "  \n",
        "  return model                      # Возвращаем модель\n",
        "\n",
        "'''\n",
        "  Функция вычисления результата работы сети\n",
        "'''\n",
        "\n",
        "def evaluateNet(net, ep, verb):\n",
        "  val = 0\n",
        "  time.time()\n",
        "  model = createConvNet(net) # Создаем модель createConvNet\n",
        "\n",
        "  # Компилируем модель\n",
        "  model.compile(optimizer=Adam(lr=1e-4),\n",
        "                  loss='mse')\n",
        "\n",
        "  #history = model.fit_generator(trainDataGen,\n",
        "  #                  epochs=5, \n",
        "  #                  verbose=verb,\n",
        "  #                  validation_data=testDataGen)\n",
        "  \n",
        "  history = model.fit(xTrain, \n",
        "                    yTrain,\n",
        "                    epochs=ep, \n",
        "                    verbose=verb,\n",
        "                    validation_data=(xTest, yTest))\n",
        "    \n",
        "  val = history.history[\"val_loss\"][-1] # Возвращаем точность на проверочной выборке с последней эпохи\n",
        "  \n",
        "  return val, model                      # Возвращаем точность\n",
        "\n",
        "'''\n",
        "  Функция создания списка случайных параметров\n",
        "'''\n",
        "def createRandomNet():\n",
        "  net = []\n",
        "  net.append(random.randint(0,1)) #Делаем или нет нормализацию\n",
        "  net.append(random.randint(3,6)) #Первый свёрточный слой от 8 до 64 нейронов\n",
        "  net.append(random.randint(3,7)) #Ядро первого свёрточного слоя от 3 до 7\n",
        "  net.append(random.randint(0,4)) # Функция активации первого слоя\n",
        "  net.append(random.randint(0,1)) #Делаем ли MaxPooling\n",
        "  net.append(random.randint(2,5)) #Размер MaxPooling\n",
        "\n",
        "  net.append(random.randint(0,1)) # Сколько делаем еще сверточных слоев\n",
        "  net.append(random.randint(3,6)) # Второй свёрточный слой от 8 до 64 нейронов\n",
        "  net.append(random.randint(3,7)) # Ядро второго свёрточного слоя от 3 до 7\n",
        "  net.append(random.randint(0,1)) # Делаем ли MaxPooling\n",
        "  net.append(random.randint(2,5)) # Размер MaxPooling\n",
        "  net.append(random.randint(0,4)) # Функция активации второго слоя\n",
        "\n",
        "  net.append(random.randint(0,1)) # Сколько делаем еще сверточных слоев\n",
        "  net.append(random.randint(3,6)) # Второй свёрточный слой от 8 до 64 нейронов\n",
        "  net.append(random.randint(3,7)) # Ядро второго свёрточного слоя от 3 до 7\n",
        "  net.append(random.randint(0,1)) # Делаем ли MaxPooling\n",
        "  net.append(random.randint(2,5)) # Размер MaxPooling\n",
        "  net.append(random.randint(0,4)) # Функция активации второго слоя\n",
        "\n",
        "  net.append(random.randint(0,4)) # Функция активации предпоследнего dense слоя\n",
        "  net.append(random.randint(0,2)) # Функция активации последнего слоя\n",
        "\n",
        "  net.append(random.randint(0,1)) # Делаем ли финальную нормализацию слой\n",
        "  net.append(random.randint(3,6)) # Размер полносвязного слоя от 8 до 64\n",
        "  \n",
        "  return net"
      ],
      "execution_count": 20,
      "outputs": []
    },
    {
      "cell_type": "code",
      "metadata": {
        "id": "gym8WMd9K8oR"
      },
      "source": [
        "n = 20              # Общее число ботов\n",
        "nsurv = 10          # Количество выживших (столько лучших переходит в новую популяцию)\n",
        "nnew = n - nsurv    # Количество новых (столько новых ботов создается)\n",
        "l = 22              # Размер бота\n",
        "epohs = 20          # количество эпох\n",
        "\n",
        "mut = 0.09          # коэфициент мутаций\n",
        "\n",
        "popul = []          # Массив популяции\n",
        "val = []            # Одномерный массив значений этих ботов\n",
        "\n",
        "#Создаём случайных ботов\n",
        "for i in range(n):\n",
        "  popul.append(createRandomNet())\n",
        "  \n",
        "for it in range(epohs):                 # Пробегаем по всем эпохам\n",
        "  val = []                              # Обнуляем значения бота\n",
        "  curr_time = time.time()\n",
        "  for i in range(n):                    # Пробегаем в цикле по всем ботам \n",
        "    bot = popul[i]                      # Берем очередного бота\n",
        "    f, model_sum = evaluateNet(bot, 75, 0) # Вычисляем точность текущего бота\n",
        "    val.append(f)                       # Добавляем полученное значение в список val\n",
        "  \n",
        "  sval = sorted(val, reverse=0)         # Сортируем val\n",
        "  # Выводим 5 лучших ботов\n",
        "  print(it, time.time() - curr_time, \" \", sval[0:5],popul[:5]) \n",
        "  \n",
        "  newpopul = []                         # Создаем пустой список под новую популяцию\n",
        "  for i in range(nsurv):                # Пробегаем по всем выжившим ботам\n",
        "    index = val.index(sval[i])          # Получаем индекс очередного бота из списка лучших в списке val\n",
        "    newpopul.append(popul[index])       # Добавляем в новую популяцию бота из popul с индексом index\n",
        "    \n",
        "  for i in range(nnew):                 # Проходимся в цикле nnew-раз  \n",
        "    indexp1 = random.randint(0,nsurv-1) # Случайный индекс первого родителя в диапазоне от 0 до nsurv - 1\n",
        "    indexp2 = random.randint(0,nsurv-1) # Случайный индекс первого родителя в диапазоне от 0 до nsurv - 1\n",
        "    botp1 = newpopul[indexp1]           # Получаем первого бота-родителя по indexp1\n",
        "    botp2 = newpopul[indexp2]           # Получаем второго бота-родителя по indexp2    \n",
        "    newbot = []                         # Создаем пустой список под значения нового бота    \n",
        "    net4Mut = createRandomNet()         # Создаем случайную сеть для мутаций\n",
        "    for j in range(l):                  # Пробегаем по всей длине размерности (784)      \n",
        "      x = 0      \n",
        "      pindex = random.random()          # Получаем случайное число в диапазоне от 0 до 1\n",
        "\n",
        "      # Если pindex меньше 0.5, то берем значения от первого бота, иначе от второго\n",
        "      if pindex < 0.5:\n",
        "        x = botp1[j]\n",
        "      else:\n",
        "        x = botp2[j]\n",
        "      \n",
        "      # С вероятностью mut устанавливаем значение бота из net4Mut\n",
        "      if (random.random() < mut):\n",
        "        x = net4Mut[j]\n",
        "        \n",
        "      newbot.append(x)                  # Добавляем очередное значение в нового бота      \n",
        "    newpopul.append(newbot)             # Добавляем бота в новую популяцию      \n",
        "  popul = newpopul                      # Записываем в popul новую посчитанную популяцию"
      ],
      "execution_count": null,
      "outputs": []
    },
    {
      "cell_type": "code",
      "metadata": {
        "id": "yIl4wEDBL07R",
        "colab": {
          "base_uri": "https://localhost:8080/"
        },
        "outputId": "ec754bab-aff5-4a2d-829a-d20481e32362"
      },
      "source": [
        "print(popul) #Геномы лучших ботов по эпохам"
      ],
      "execution_count": null,
      "outputs": [
        {
          "output_type": "stream",
          "text": [
            "[[1, 4, 3, 0, 1, 2, 1, 5, 6, 0, 2, 1, 0, 3, 7, 1, 5, 2, 0, 2, 0, 4], [1, 4, 3, 1, 1, 2, 1, 5, 6, 0, 2, 0, 0, 6, 7, 1, 5, 2, 0, 2, 0, 3], [1, 4, 3, 1, 1, 2, 1, 5, 6, 0, 3, 0, 0, 6, 7, 1, 5, 2, 0, 2, 0, 4], [1, 4, 3, 1, 1, 2, 1, 5, 6, 0, 2, 0, 0, 6, 3, 1, 5, 2, 0, 2, 0, 4], [1, 4, 3, 1, 0, 2, 1, 5, 6, 0, 2, 0, 0, 4, 7, 1, 5, 2, 2, 2, 0, 3], [1, 4, 3, 0, 1, 2, 1, 3, 6, 0, 2, 1, 0, 6, 7, 1, 5, 2, 0, 2, 0, 4], [1, 4, 6, 1, 0, 2, 1, 6, 6, 0, 2, 0, 0, 4, 7, 1, 5, 2, 0, 2, 0, 4], [1, 4, 6, 1, 1, 2, 1, 6, 6, 0, 2, 0, 0, 4, 7, 0, 5, 2, 0, 2, 0, 3], [1, 4, 3, 1, 1, 2, 1, 5, 6, 0, 2, 0, 0, 5, 7, 1, 5, 2, 0, 2, 0, 4], [1, 4, 6, 1, 0, 2, 1, 6, 6, 0, 2, 0, 0, 4, 7, 1, 5, 2, 0, 2, 0, 3], [1, 4, 3, 1, 1, 2, 1, 5, 6, 0, 3, 0, 0, 6, 7, 1, 5, 2, 0, 2, 0, 4], [1, 4, 3, 1, 0, 2, 1, 3, 6, 0, 2, 1, 0, 6, 7, 1, 5, 2, 0, 2, 0, 4], [1, 4, 6, 1, 0, 4, 1, 6, 6, 0, 2, 0, 0, 4, 7, 1, 5, 2, 0, 2, 1, 4], [0, 4, 6, 1, 0, 2, 0, 6, 6, 0, 2, 1, 1, 4, 7, 1, 5, 2, 0, 2, 0, 4], [1, 6, 6, 0, 1, 2, 1, 6, 6, 0, 2, 0, 0, 4, 7, 1, 5, 2, 0, 2, 0, 3], [1, 5, 3, 1, 1, 2, 1, 5, 3, 0, 2, 0, 0, 4, 7, 1, 5, 2, 2, 2, 0, 3], [1, 4, 3, 1, 1, 2, 1, 5, 6, 0, 3, 0, 0, 6, 3, 1, 5, 1, 0, 2, 0, 4], [1, 4, 6, 1, 0, 2, 1, 6, 6, 0, 2, 1, 0, 3, 7, 1, 5, 2, 0, 2, 0, 3], [1, 4, 3, 1, 0, 2, 1, 5, 6, 0, 2, 0, 0, 4, 7, 1, 5, 2, 0, 2, 0, 4], [1, 4, 6, 1, 0, 2, 1, 6, 6, 0, 2, 0, 0, 4, 5, 1, 5, 2, 0, 2, 0, 3]]\n"
          ],
          "name": "stdout"
        }
      ]
    },
    {
      "cell_type": "code",
      "metadata": {
        "id": "N_SXl3uiL2f2",
        "colab": {
          "base_uri": "https://localhost:8080/"
        },
        "outputId": "3394876e-317f-43e4-9e8e-4d9414fd97f5"
      },
      "source": [
        "#model = createConvNet(popul[0])\n",
        "model = createConvNet([0, 3, 4, 1, 0, 4, 1, 5, 5, 0, 4, 1, 0, 3, 5, 1, 5, 3, 2, 0, 0, 4])\n",
        "model.summary()"
      ],
      "execution_count": 22,
      "outputs": [
        {
          "output_type": "stream",
          "text": [
            "Model: \"sequential_1\"\n",
            "_________________________________________________________________\n",
            "Layer (type)                 Output Shape              Param #   \n",
            "=================================================================\n",
            "conv1d_2 (Conv1D)            (None, 30, 8)             40        \n",
            "_________________________________________________________________\n",
            "conv1d_3 (Conv1D)            (None, 30, 32)            1312      \n",
            "_________________________________________________________________\n",
            "flatten_1 (Flatten)          (None, 960)               0         \n",
            "_________________________________________________________________\n",
            "dense_2 (Dense)              (None, 16)                15376     \n",
            "_________________________________________________________________\n",
            "dense_3 (Dense)              (None, 1)                 17        \n",
            "=================================================================\n",
            "Total params: 16,745\n",
            "Trainable params: 16,745\n",
            "Non-trainable params: 0\n",
            "_________________________________________________________________\n"
          ],
          "name": "stdout"
        }
      ]
    },
    {
      "cell_type": "code",
      "metadata": {
        "id": "IklRqP7dL4y_"
      },
      "source": [
        "model_save_path = 'best_model.h5'\n",
        "checkpoint_callback = ModelCheckpoint(model_save_path,\n",
        "                                      monitor='loss',\n",
        "                                      save_best_only=True,\n",
        "                                      verbose=0)\n",
        "\n",
        "#Комипилируем и обучаем\n",
        "model.compile(optimizer=Adam(lr=1e-4),\n",
        "              loss='mse'\n",
        "              #,metrics=['accuracy']\n",
        "              )\n",
        "\n",
        "history = model.fit(xTrain, \n",
        "                    yTrain,\n",
        "                    epochs=100, \n",
        "                    validation_data=(xTest, yTest),\n",
        "                    verbose = False\n",
        "                    ,callbacks=[checkpoint_callback]\n",
        "                    )"
      ],
      "execution_count": 23,
      "outputs": []
    },
    {
      "cell_type": "code",
      "metadata": {
        "id": "C5grHvwhQutU",
        "colab": {
          "base_uri": "https://localhost:8080/",
          "height": 265
        },
        "outputId": "eb5e8420-3a5a-4f79-dc32-5b36aa8861e7"
      },
      "source": [
        "plt.plot(history.history['loss'], \n",
        "         label='Средняя абсолютная ошибка на обучающем наборе')\n",
        "plt.plot(history.history['val_loss'], \n",
        "         label='Средняя абсолютная ошибка на проверочном наборе')\n",
        "plt.ylabel('Средняя ошибка')\n",
        "plt.legend()\n",
        "plt.show()"
      ],
      "execution_count": 24,
      "outputs": [
        {
          "output_type": "display_data",
          "data": {
            "image/png": "[encoded data removed]",
            "text/plain": [
              "<Figure size 432x288 with 1 Axes>"
            ]
          },
          "metadata": {
            "tags": [],
            "needs_background": "light"
          }
        }
      ]
    },
    {
      "cell_type": "code",
      "metadata": {
        "id": "1GiDDeszRBMz",
        "colab": {
          "base_uri": "https://localhost:8080/",
          "height": 296
        },
        "outputId": "d0703c39-a176-4829-dda7-46fe824ce4b8"
      },
      "source": [
        "# Прогнозируем данные текущей сетью\n",
        "currModel = model #Выбираем текущую модель\n",
        "(predVal, yValUnscaled) = getPred(currModel, xVal[0], yVal[0], Scaler) #Прогнозируем данные\n",
        "print(yVal[0].shape)\n",
        "\n",
        "# Отображаем графики\n",
        "showPredict(0, 400, 0, predVal, yValUnscaled)"
      ],
      "execution_count": 25,
      "outputs": [
        {
          "output_type": "stream",
          "text": [
            "(415, 1)\n"
          ],
          "name": "stdout"
        },
        {
          "output_type": "display_data",
          "data": {
            "image/png": "[encoded data removed]",
            "text/plain": [
              "<Figure size 432x288 with 1 Axes>"
            ]
          },
          "metadata": {
            "tags": [],
            "needs_background": "light"
          }
        }
      ]
    },
    {
      "cell_type": "code",
      "metadata": {
        "colab": {
          "base_uri": "https://localhost:8080/"
        },
        "id": "4Swqik2oIR_I",
        "outputId": "e5207dc0-59a2-476d-9a66-13f8b6e1482b"
      },
      "source": [
        "predVal[0][0]"
      ],
      "execution_count": null,
      "outputs": [
        {
          "output_type": "execute_result",
          "data": {
            "text/plain": [
              "77.29932"
            ]
          },
          "metadata": {
            "tags": []
          },
          "execution_count": 25
        }
      ]
    },
    {
      "cell_type": "code",
      "metadata": {
        "id": "d-WIogTteS8_",
        "colab": {
          "base_uri": "https://localhost:8080/",
          "height": 541
        },
        "outputId": "47c78c1e-d3c7-419f-b10c-c98b1a1da5d1"
      },
      "source": [
        "# Делаем прогноз на 365 дней\n",
        "prognoz_days = 50\n",
        "predict_arr = []\n",
        "result_temp = []\n",
        "ot = xVal[0].shape[0] - 1\n",
        "do = ot + prognoz_days\n",
        "kursor_pred = np.reshape(xVal[0][ot],(1, xLen, -1)) # берем последний набор из массива и предсказываем его\n",
        "while ot <= do:\n",
        "  predict_arr.append(np.reshape(kursor_pred[0],(xLen, -1))) # решейпим\n",
        "  result_temp.append(0) # Костыль чтобы рисовать график\n",
        "  predVal = currModel.predict(kursor_pred) # получаем значение для набора\n",
        "  temp = kursor_pred[0][1:xLen] \n",
        "  temp = np.append(temp, predVal) # Добавляем прогнозируемое значение в конец следующего набора\n",
        "  temp = np.reshape(temp,(-1,1))\n",
        "  temp = np.reshape(temp,(1, xLen, -1))\n",
        "  kursor_pred = temp\n",
        "  ot += 1\n",
        "\n",
        "predict_arr = np.array(predict_arr)\n",
        "result_temp = np.array(result_temp)\n",
        "result_temp = np.reshape(result_temp,(-1,1))\n",
        "\n",
        "# Прогнозируем данные текущей сетью \n",
        "currModel = model #Выбираем текущую модель\n",
        "(predVal, yValUnscaled) = getPred(currModel, predict_arr, result_temp, Scaler) #Прогнозируем данные\n",
        "# Отображаем графики\n",
        "showPredict(0, prognoz_days, 0, predVal, yValUnscaled)\n",
        "\n",
        "predict_arr = np.append(xVal[0], predict_arr)\n",
        "predict_arr = np.reshape(predict_arr,(-1, xLen, 1))\n",
        "result_temp = np.append(yVal[0], result_temp)\n",
        "result_temp = np.reshape(result_temp,(-1, 1))\n",
        "\n",
        "# Прогнозируем данные текущей сетью\n",
        "currModel = model #Выбираем текущую модель\n",
        "(predVal, yValUnscaled) = getPred(currModel, predict_arr, result_temp, Scaler) #Прогнозируем данные\n",
        "\n",
        "# Отображаем графики\n",
        "showPredict(0, result_temp.shape[0], 0, predVal, yValUnscaled)"
      ],
      "execution_count": 26,
      "outputs": [
        {
          "output_type": "display_data",
          "data": {
            "image/png": "[encoded data removed]",
            "text/plain": [
              "<Figure size 432x288 with 1 Axes>"
            ]
          },
          "metadata": {
            "tags": [],
            "needs_background": "light"
          }
        },
        {
          "output_type": "display_data",
          "data": {
            "image/png": "[encoded data removed]",
            "text/plain": [
              "<Figure size 432x288 with 1 Axes>"
            ]
          },
          "metadata": {
            "tags": [],
            "needs_background": "light"
          }
        }
      ]
    },
    {
      "cell_type": "code",
      "metadata": {
        "id": "l7zQGvt3Rnqd",
        "colab": {
          "base_uri": "https://localhost:8080/",
          "height": 279
        },
        "outputId": "229620d7-a634-42dd-aba9-f1cccf140782"
      },
      "source": [
        "# Отображаем корреляцию\n",
        "# Используем выходной канал - только open\n",
        "# Проверяем корреляцию на глубину 60 шагов\n",
        "autoCorr([0], len(predVal), predVal, yValUnscaled)"
      ],
      "execution_count": 27,
      "outputs": [
        {
          "output_type": "display_data",
          "data": {
            "image/png": "[encoded data removed]",
            "text/plain": [
              "<Figure size 432x288 with 1 Axes>"
            ]
          },
          "metadata": {
            "tags": [],
            "needs_background": "light"
          }
        }
      ]
    }
  ]
}